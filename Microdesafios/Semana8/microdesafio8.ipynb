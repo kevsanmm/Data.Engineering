{
 "cells": [
  {
   "cell_type": "code",
   "execution_count": 29,
   "metadata": {},
   "outputs": [
    {
     "name": "stdout",
     "output_type": "stream",
     "text": [
      "       Pais         Comisionado Reduccion_CO2 Incrmento_P Inversion_arboles  \\\n",
      "0  Argentina      Carlos Veroes            Si          Si                Si   \n",
      "1   Colombia      Sofia Andrade            No          No                Si   \n",
      "2      Chile  Cristina Valdivia            Si          Si                Si   \n",
      "3    Bolivia       Pedro Carlos            No          No                No   \n",
      "4   Paraguay      Juan Paraguas            No          Si                Si   \n",
      "\n",
      "        Fecha  Telefono  \n",
      "0  08/07/2022  23467698  \n",
      "1  12/06/2022  76587899  \n",
      "2  15/07/2022  76593749  \n",
      "3  01/09/2022  65746474  \n",
      "4  04/06/2022  83447474  \n"
     ]
    }
   ],
   "source": [
    "import pandas as pd\n",
    "\n",
    "# Cargar el archivo CSV\n",
    "file_path = 'C:\\\\Users\\\\Alexander\\\\Documents\\\\Data Engineering\\\\Data.Engineering\\\\Microdesafios\\\\Semana8\\\\Datos_Microdesafio_Semana8_DE.csv'\n",
    "df = pd.read_csv(file_path, sep=';')\n",
    "\n",
    "# Mostrar las primeras filas del DataFrame\n",
    "print(df.head())"
   ]
  },
  {
   "cell_type": "code",
   "execution_count": 30,
   "metadata": {},
   "outputs": [
    {
     "name": "stdout",
     "output_type": "stream",
     "text": [
      "Pais                         object\n",
      "Comisionado                  object\n",
      "Reduccion_CO2                object\n",
      "Incrmento_P                  object\n",
      "Inversion_arboles            object\n",
      "Fecha                datetime64[ns]\n",
      "Telefono                     object\n",
      "dtype: object\n"
     ]
    }
   ],
   "source": [
    "# Crear una copia del DataFrame para trabajar con ella\n",
    "df_copy = df.copy()\n",
    "\n",
    "# Convertir 'Fecha' a datetime\n",
    "df_copy['Fecha'] = pd.to_datetime(df_copy['Fecha'], format='%d/%m/%Y')\n",
    "\n",
    "# Convertir 'Telefono' a string (object)\n",
    "df_copy['Telefono'] = df_copy['Telefono'].astype(str)\n",
    "\n",
    "# Verificar los tipos de datos\n",
    "print(df_copy.dtypes)"
   ]
  },
  {
   "cell_type": "code",
   "execution_count": 31,
   "metadata": {},
   "outputs": [
    {
     "name": "stdout",
     "output_type": "stream",
     "text": [
      "       Pais         Comisionado Reduccion_CO2 Incrmento_P Inversion_arboles  \\\n",
      "0  Argentina      Carlos Veroes            Si          Si                Si   \n",
      "1   Colombia      Sofia Andrade            No          No                Si   \n",
      "2      Chile  Cristina Valdivia            Si          Si                Si   \n",
      "3    Bolivia       Pedro Carlos            No          No                No   \n",
      "4   Paraguay      Juan Paraguas            No          Si                Si   \n",
      "\n",
      "       Fecha  Telefono      Fake_Comisionado  Fake_Fecha  Fake_Telefono  \n",
      "0 2022-07-08  23467698     James Smith-Barry  2012-01-09       33706741  \n",
      "1 2022-06-12  76587899          Tracy Abbott  2018-07-31       52319411  \n",
      "2 2022-07-15  76593749  Ms Charlene Ferguson  2003-10-31       78020105  \n",
      "3 2022-09-01  65746474        Daniel Harding  2020-11-29       47126031  \n",
      "4 2022-06-04  83447474    Molly Jones-Wilson  2007-12-10       57929585  \n"
     ]
    }
   ],
   "source": [
    "# Convertir la columna 'Telefono' a números enteros\n",
    "df_anonymized_copy['Telefono'] = pd.to_numeric(df_anonymized_copy['Telefono'], errors='coerce')\n",
    "\n",
    "# Inicializar el anonimizador\n",
    "an = anonymize(df_anonymized_copy)\n",
    "\n",
    "# Generar datos ficticios\n",
    "fake_df = (\n",
    "    an\n",
    "    .fake_names(\"Comisionado\", chaining=True)\n",
    "    .fake_dates(\"Fecha\", chaining=True)\n",
    "    .fake_whole_numbers(\"Telefono\", chaining=True)\n",
    "    .show_data_frame()\n",
    ")\n",
    "\n",
    "# Verificar los datos anonimizados\n",
    "print(fake_df.head())\n"
   ]
  },
  {
   "cell_type": "code",
   "execution_count": 34,
   "metadata": {},
   "outputs": [],
   "source": [
    "fake_df.to_csv('temp_data.csv', index=False)\n"
   ]
  },
  {
   "cell_type": "code",
   "execution_count": 36,
   "metadata": {},
   "outputs": [],
   "source": [
    "import psycopg2\n",
    "import os\n",
    "from dotenv import load_dotenv\n",
    "import pandas as pd\n",
    "\n",
    "# Cargar las variables de entorno desde el archivo .env\n",
    "load_dotenv()\n",
    "\n",
    "# Obtener las credenciales desde las variables de entorno\n",
    "dbname = os.getenv(\"DB_NAME\")\n",
    "user = os.getenv(\"DB_USER\")\n",
    "password = os.getenv(\"DB_PASSWORD\")\n",
    "host = os.getenv(\"DB_HOST\")\n",
    "port = os.getenv(\"DB_PORT\")\n",
    "\n",
    "# Conectar a Redshift\n",
    "conn = psycopg2.connect(\n",
    "    dbname=dbname,\n",
    "    user=user,\n",
    "    password=password,\n",
    "    host=host,\n",
    "    port=port\n",
    ")\n",
    "\n",
    "# Crear un cursor\n",
    "cur = conn.cursor()\n",
    "\n",
    "# Leer el archivo CSV en un DataFrame\n",
    "df = pd.read_csv('temp_data.csv')\n",
    "\n",
    "# Insertar datos fila por fila\n",
    "for _, row in df.iterrows():\n",
    "    cur.execute(\n",
    "        \"\"\"\n",
    "        INSERT INTO políticas_2050 (Pais, Comisionado, Reduccion_CO2, Incrmento_P, Inversion_arboles, Fecha, Telefono, Fake_Comisionado, Fake_Fecha, Fake_Telefono)\n",
    "        VALUES (%s, %s, %s, %s, %s, %s, %s, %s, %s, %s)\n",
    "        \"\"\",\n",
    "        tuple(row)\n",
    "    )\n",
    "\n",
    "# Confirmar la transacción y cerrar la conexión\n",
    "conn.commit()\n",
    "cur.close()\n",
    "conn.close()\n"
   ]
  }
 ],
 "metadata": {
  "kernelspec": {
   "display_name": "Python 3",
   "language": "python",
   "name": "python3"
  },
  "language_info": {
   "codemirror_mode": {
    "name": "ipython",
    "version": 3
   },
   "file_extension": ".py",
   "mimetype": "text/x-python",
   "name": "python",
   "nbconvert_exporter": "python",
   "pygments_lexer": "ipython3",
   "version": "3.12.3"
  }
 },
 "nbformat": 4,
 "nbformat_minor": 2
}
